{
 "cells": [
  {
   "cell_type": "code",
   "execution_count": 20,
   "id": "75f16a17-ea21-4132-be49-1b41b28129a0",
   "metadata": {},
   "outputs": [],
   "source": [
    "import os\n",
    "os.chdir('/home/guohao826/AppAlgorithmFace')\n",
    "import cv2\n",
    "import uuid\n",
    "import base64\n",
    "import time\n",
    "import logging\n",
    "import tempfile\n",
    "import numpy as np\n",
    "from src.config import Config\n",
    "from src.service.alive_alg.alive import LiveFaceDetection, check_alive\n",
    "from src.service.face_alg.detect_inference import DetectInference\n",
    "from src.service.face_alg.landmark_inference import LandmarkInference\n",
    "from src.service.face_alg.antispoofing_inference import AntiSpoofingInference\n",
    "\n",
    "from src.service.face_alg.service_demo import PthExtractor, detect_align, get_sim\n",
    "from src.service.image import ImageService\n",
    "from src.util.decorator import catch\n",
    "import matplotlib.pyplot as plt\n",
    "from tqdm import tqdm\n",
    "import shutil"
   ]
  },
  {
   "cell_type": "markdown",
   "id": "d36c212c-d5a2-4c41-83d4-893b38ae7b84",
   "metadata": {},
   "source": [
    "## 加载模型"
   ]
  },
  {
   "cell_type": "code",
   "execution_count": 21,
   "id": "48a15956-54f0-4d4c-a14b-495ecd007035",
   "metadata": {},
   "outputs": [],
   "source": [
    "detector = DetectInference(Config.DETECT_MODEL_PATH, Config.DETECT_GPUID, Config.DETECT_INPUT_SHAPE,\n",
    "                               Config.DETECT_THRESHOLD)\n",
    "landermark_detector = LandmarkInference(Config.DETECT_LANDMARK_MODEL_PATH, Config.DETECT_GPUID)\n",
    "# 活体模型\n",
    "# alive_model = LiveFaceDetection(Config.ALIVE_MODEL_PATH, Config.ALIVE_THRESHOLD_ORIENTATION,\n",
    "#                                     Config.ALIVE_THRESHOLD_MOUSE, Config.ALIVE_THRESHOLD_MOVE,\n",
    "#                                     Config.ALIVE_THRESHOLD_EYE, Config.ALIVE_THRESHOLD_ALIGH,\n",
    "#                                     Config.ALIVE_WIN_WIDTH, Config.ALIVE_WIN_HEIGHT)"
   ]
  },
  {
   "cell_type": "code",
   "execution_count": 22,
   "id": "7d777990-034e-459b-812e-1ad0284a5710",
   "metadata": {},
   "outputs": [],
   "source": [
    "##预处理\n",
    "def preprocess(frame):\n",
    "    # img_w = frame.shape[1]\n",
    "    # img_h = frame.shape[0]\n",
    "    # if img_w > img_h:\n",
    "    #     frame = np.rot90(frame)\n",
    "\n",
    "    dim = frame.shape\n",
    "    resize_w = alive_model.WIN_WIDTH\n",
    "    resize_h = int(resize_w * dim[0] / dim[1])\n",
    "\n",
    "    frame = cv2.resize(frame, (resize_w, resize_h))\n",
    "    return frame"
   ]
  },
  {
   "cell_type": "code",
   "execution_count": 29,
   "id": "9729aebb-239d-401b-ac8d-60fe05ab8e2f",
   "metadata": {},
   "outputs": [],
   "source": [
    "##检测人脸区域\n",
    "def detect_face(frame):\n",
    "    bboxes,lads = detector.detect([frame])\n",
    "    bbox= bboxes[0]\n",
    "    return bbox\n",
    "\n",
    "def plot_one_box(x, im, label=None, line_thickness=3):\n",
    "    tl = line_thickness or round(0.002 * (im.shape[0] + im.shape[1]) / 2) + 1  # line/font thickness\n",
    "    color = [0,0,255]\n",
    "    c1, c2 = (int(x[0]), int(x[1])), (int(x[2]), int(x[3]))\n",
    "    c3 = c1[0],c2[1]\n",
    "    cv2.rectangle(im, c1, c2, color, thickness=tl, lineType=cv2.LINE_AA)\n",
    "    \n",
    "def plot_face_region(bboxs,im):\n",
    "    imm = im.copy()\n",
    "    for bbox in bboxs:\n",
    "        plot_one_box(bbox,imm)\n",
    "    return imm\n",
    "    \n",
    "    \n",
    "def plot_lads(landermarks,frame):\n",
    "    res1 = frame.copy()\n",
    "    for a in landermark_98.getA()  :\n",
    "        cv2.circle(res1,(int(a[0]),int(a[1])),2,(0,0,255),-1)\n",
    "    return res1\n",
    "\n",
    "def get_mouse_status(landmarks_in):\n",
    "    mouseArea = []\n",
    "    for i in range(48, 60):\n",
    "        point = landmarks_in[i]\n",
    "        mouseArea.append([int(point[0, 0]), int(point[0, 1])])\n",
    "    mouseArea = np.array(mouseArea)\n",
    "    mouseSize = cv2.contourArea(mouseArea)\n",
    "    mouseLength = landmarks_in[54][0, 0] - landmarks_in[48][0, 0]\n",
    "    mouseRatio = mouseSize / (mouseLength * mouseLength)\n",
    "    return mouseRatio\n",
    "\n",
    "def get_eyes_status(landmarks_in):\n",
    "\n",
    "    landmarks_eye = landmarks_in[60:68]\n",
    "    landmarks_right = landmarks_in[68:76]\n",
    "\n",
    "    left_err = alive_model.eye_aspect_ratio_eight_points(landmarks_eye)\n",
    "    right_err = alive_model.eye_aspect_ratio_eight_points(landmarks_right)\n",
    "    mean_err = (left_err + right_err) / 2.0\n",
    "    return mean_err\n",
    "\n",
    "\n",
    "def getfaceVar(image,face_box, img_w, img_h):\n",
    "    left_x = int(face_box[0])\n",
    "    left_y = int(face_box[1])\n",
    "    right_x = int(face_box[2])\n",
    "    right_y = int(face_box[3])\n",
    "\n",
    "    if left_x < 1:\n",
    "        left_x = 0\n",
    "    if left_y < 1:\n",
    "        left_y = 0\n",
    "    if right_x > (img_w - 1):\n",
    "        right_x = (img_w - 1)\n",
    "    if right_y > (img_h - 1):\n",
    "        right_y = (img_h - 1)\n",
    "\n",
    "    crop_face = frame[left_y:right_y, left_x:right_x]\n",
    "    # image = cv2.cvtColor(np.asarray(PIl_image),cv2.COLOR_RGB2BGR)\n",
    "    img2gray = cv2.cvtColor(crop_face, cv2.COLOR_BGR2GRAY)\n",
    "    imageVar = cv2.Laplacian(img2gray, cv2.CV_64F).var()\n",
    "    return imageVar\n",
    "\n",
    "\n",
    "def getImageVar(image):\n",
    "    # image = cv2.cvtColor(np.asarray(PIl_image),cv2.COLOR_RGB2BGR)\n",
    "    img2gray = cv2.cvtColor(image, cv2.COLOR_BGR2GRAY)\n",
    "    imageVar = cv2.Laplacian(img2gray, cv2.CV_64F).var()\n",
    "    return imageVar\n",
    "\n",
    "\n",
    "def isLightnessover( frame, face_box, img_w, img_h):\n",
    "    left_x = int(face_box[0])\n",
    "    left_y = int(face_box[1])\n",
    "    right_x = int(face_box[2])\n",
    "    right_y = int(face_box[3])\n",
    "\n",
    "    if left_x < 1:\n",
    "        left_x = 0\n",
    "    if left_y < 1:\n",
    "        left_y = 0\n",
    "    if right_x > (img_w - 1):\n",
    "        right_x = (img_w - 1)\n",
    "    if right_y > (img_h - 1):\n",
    "        right_y = (img_h - 1)\n",
    "\n",
    "    crop_face = frame[left_y:right_y, left_x:right_x]\n",
    "    img_hsv = cv2.cvtColor(crop_face, cv2.COLOR_BGR2HSV)\n",
    "    h, s, v = cv2.split(img_hsv)\n",
    "    bright_value = np.mean(np.mean(v))\n",
    "\n",
    "    # value from [0-255] 0 is dark\n",
    "    if bright_value > 230:\n",
    "        return False\n",
    "    return True"
   ]
  },
  {
   "cell_type": "code",
   "execution_count": 31,
   "id": "d0d51c9c-3084-4173-ad69-308e81a24fb6",
   "metadata": {},
   "outputs": [],
   "source": [
    "dirpath = '/home/guohao826/AppAlgorithmFace/process_file/imgs'\n",
    "root = '/home/guohao826/AppAlgorithmFace/process_file'\n",
    "filenames = os.listdir(dirpath)\n",
    "os.makedirs(os.path.join(root,'no_face'),exist_ok=True)\n",
    "os.makedirs(os.path.join(root,'mohu'),exist_ok=True)\n",
    "os.makedirs(os.path.join(root,'light_lack'),exist_ok=True)\n",
    "os.makedirs(os.path.join(root,'light_over'),exist_ok=True)\n",
    "os.makedirs(os.path.join(root,'small_face'),exist_ok=True)\n",
    "os.makedirs(os.path.join(root,'ola'),exist_ok=True)\n",
    "os.makedirs(os.path.join(root,'eye_close'),exist_ok=True)\n",
    "os.makedirs(os.path.join(root,'mouse_open'),exist_ok=True)"
   ]
  },
  {
   "cell_type": "code",
   "execution_count": 32,
   "id": "66342659-04e3-4fe6-a513-78c2b201e93e",
   "metadata": {},
   "outputs": [
    {
     "name": "stderr",
     "output_type": "stream",
     "text": [
      "  0%|          | 0/20 [00:00<?, ?it/s]"
     ]
    },
    {
     "name": "stderr",
     "output_type": "stream",
     "text": [
      " 55%|█████▌    | 11/20 [00:00<00:00, 48.00it/s]"
     ]
    },
    {
     "name": "stdout",
     "output_type": "stream",
     "text": [
      "8.png\n",
      "17.png\n",
      "15.png\n",
      "14.png\n",
      "11.png\n",
      "5.png\n",
      "12.png\n",
      "9.png\n",
      "6.png\n",
      "3.png\n",
      "16.png\n"
     ]
    },
    {
     "name": "stderr",
     "output_type": "stream",
     "text": [
      "100%|██████████| 20/20 [00:00<00:00, 46.80it/s]"
     ]
    },
    {
     "name": "stdout",
     "output_type": "stream",
     "text": [
      "13.png\n",
      "18.png\n",
      "4.png\n",
      "2.png\n",
      "30.png\n",
      "21.png\n",
      "7.png\n",
      "1.png\n",
      "10.png\n"
     ]
    },
    {
     "name": "stderr",
     "output_type": "stream",
     "text": [
      "\n"
     ]
    }
   ],
   "source": [
    "for filename in tqdm(filenames):\n",
    "    try:\n",
    "        #filename = 'base_20211219174036f5fd906f42ca40db82b532e07bf5215a.jpg'\n",
    "        img_path = os.path.join(dirpath,filename)\n",
    "        img = cv2.imread(img_path)\n",
    "        #img = cv2.imread('./eye.jpg')\n",
    "        frame = preprocess(img)\n",
    "        bounding_boxes = detect_face(frame)\n",
    "        dim = frame.shape\n",
    "        img_h = dim[0]\n",
    "        img_w = dim[1]\n",
    "        if len(bounding_boxes) > 0:\n",
    "            index = alive_model.maxbox(bounding_boxes)\n",
    "            box = bounding_boxes[index]\n",
    "            isLightover = isLightnessover(frame, box, img_w, img_h)\n",
    "            isLightFace = alive_model.isLightnessEnough(frame, box, img_w, img_h)\n",
    "            isBigFace = alive_model.isBig(box, img_w, img_h)\n",
    "            ImageVar = getImageVar(frame)\n",
    "            if ImageVar < 10:\n",
    "                target_path = os.path.join(root,'mohu',filename)\n",
    "                shutil.copyfile(img_path,target_path)\n",
    "            if isLightFace == False:\n",
    "                target_path = os.path.join(root,'light_lack',filename)\n",
    "                shutil.copyfile(img_path,target_path)\n",
    "            if isBigFace == False:\n",
    "                target_path = os.path.join(root,'small_face',filename)\n",
    "                shutil.copyfile(img_path,target_path)\n",
    "            if isLightover == False:\n",
    "                target_path = os.path.join(root,'light_over',filename)\n",
    "                shutil.copyfile(img_path,target_path)\n",
    "            ##关键点检测\n",
    "            faceimg, face_size, (x1, y1) = landermark_detector.preprocess(box, frame)\n",
    "            landmark_QC = landermark_detector.inference(faceimg, face_size)\n",
    "            landermark_98 = alive_model.landermark_plus_leftcorner(landmark_QC, np.array([x1, y1]))\n",
    "            landmarks = alive_model.index_98to68(landmark_QC, np.array([x1, y1]))\n",
    "            reprojectdst, euler_angle = alive_model.get_head_pose(landmarks)\n",
    "            aligned_sum = abs(euler_angle[0, 0]) + abs(euler_angle[1, 0]) + abs(euler_angle[2, 0])\n",
    "            eye_status = get_eyes_status(landermark_98)\n",
    "            mouse_status = get_mouse_status(landmarks)\n",
    "            if aligned_sum > 80 :\n",
    "                target_path = os.path.join(root,'ola',filename)\n",
    "                shutil.copyfile(img_path,target_path)\n",
    "            elif eye_status<0.11:\n",
    "                target_path = os.path.join(root,'eye_close',filename)\n",
    "                shutil.copyfile(img_path,target_path)\n",
    "            elif mouse_status>0.6:\n",
    "                target_path = os.path.join(root,'mouse_open',filename)\n",
    "                shutil.copyfile(img_path,target_path)\n",
    "        else:\n",
    "            target_path = os.path.join(root,'no_face',filename)\n",
    "            shutil.copyfile(img_path,target_path)\n",
    "    except:\n",
    "        print(filename)\n",
    "            \n"
   ]
  },
  {
   "cell_type": "code",
   "execution_count": 26,
   "id": "d80083bb-999f-4ebb-884f-755b39753dbf",
   "metadata": {},
   "outputs": [
    {
     "ename": "NameError",
     "evalue": "name 'immm' is not defined",
     "output_type": "error",
     "traceback": [
      "\u001b[0;31m---------------------------------------------------------------------------\u001b[0m",
      "\u001b[0;31mNameError\u001b[0m                                 Traceback (most recent call last)",
      "Cell \u001b[0;32mIn[26], line 1\u001b[0m\n\u001b[0;32m----> 1\u001b[0m plt\u001b[38;5;241m.\u001b[39mimshow(\u001b[43mimmm\u001b[49m)\n",
      "\u001b[0;31mNameError\u001b[0m: name 'immm' is not defined"
     ]
    }
   ],
   "source": [
    "plt.imshow(immm)"
   ]
  },
  {
   "cell_type": "code",
   "execution_count": null,
   "id": "5d566f80-1a81-4fb7-a37b-048567a1ecb9",
   "metadata": {},
   "outputs": [
    {
     "ename": "NameError",
     "evalue": "name 'bounding_boxes' is not defined",
     "output_type": "error",
     "traceback": [
      "\u001b[0;31m---------------------------------------------------------------------------\u001b[0m",
      "\u001b[0;31mNameError\u001b[0m                                 Traceback (most recent call last)",
      "Cell \u001b[0;32mIn[13], line 1\u001b[0m\n\u001b[0;32m----> 1\u001b[0m immm \u001b[38;5;241m=\u001b[39m plot_face_region(\u001b[43mbounding_boxes\u001b[49m,frame)\n",
      "\u001b[0;31mNameError\u001b[0m: name 'bounding_boxes' is not defined"
     ]
    }
   ],
   "source": [
    "immm = plot_face_region(bounding_boxes,frame)"
   ]
  },
  {
   "cell_type": "code",
   "execution_count": null,
   "id": "c1ed7e27-21d0-4253-952f-57f42bef19fe",
   "metadata": {},
   "outputs": [],
   "source": [
    "plt.scatter(landmark_QC[:,0],landmark_QC[:,1])"
   ]
  },
  {
   "cell_type": "code",
   "execution_count": null,
   "id": "2090f3ce-2ac6-4840-b04f-7dfca23fcb92",
   "metadata": {},
   "outputs": [],
   "source": [
    "img = cv2.imread(os.path.join(dirpath,'base_20211127204735bcf80943882c47a38340d33f9dbf5140.jpg'))"
   ]
  },
  {
   "cell_type": "code",
   "execution_count": null,
   "id": "82e05317-af8a-45af-9792-c3d147f0ff3c",
   "metadata": {},
   "outputs": [],
   "source": [
    "plt.imshow(a[...,::-1])"
   ]
  },
  {
   "cell_type": "code",
   "execution_count": null,
   "id": "28dba6be-bcc2-4478-aeb2-a84956a65c22",
   "metadata": {},
   "outputs": [
    {
     "ename": "NameError",
     "evalue": "name 'alive_model' is not defined",
     "output_type": "error",
     "traceback": [
      "\u001b[0;31m---------------------------------------------------------------------------\u001b[0m",
      "\u001b[0;31mNameError\u001b[0m                                 Traceback (most recent call last)",
      "Cell \u001b[0;32mIn[14], line 1\u001b[0m\n\u001b[0;32m----> 1\u001b[0m imm \u001b[38;5;241m=\u001b[39m \u001b[43mpreprocess\u001b[49m\u001b[43m(\u001b[49m\u001b[43mimg\u001b[49m\u001b[43m)\u001b[49m\n",
      "Cell \u001b[0;32mIn[5], line 9\u001b[0m, in \u001b[0;36mpreprocess\u001b[0;34m(frame)\u001b[0m\n\u001b[1;32m      2\u001b[0m \u001b[38;5;28;01mdef\u001b[39;00m \u001b[38;5;21mpreprocess\u001b[39m(frame):\n\u001b[1;32m      3\u001b[0m     \u001b[38;5;66;03m# img_w = frame.shape[1]\u001b[39;00m\n\u001b[1;32m      4\u001b[0m     \u001b[38;5;66;03m# img_h = frame.shape[0]\u001b[39;00m\n\u001b[1;32m      5\u001b[0m     \u001b[38;5;66;03m# if img_w > img_h:\u001b[39;00m\n\u001b[1;32m      6\u001b[0m     \u001b[38;5;66;03m#     frame = np.rot90(frame)\u001b[39;00m\n\u001b[1;32m      8\u001b[0m     dim \u001b[38;5;241m=\u001b[39m frame\u001b[38;5;241m.\u001b[39mshape\n\u001b[0;32m----> 9\u001b[0m     resize_w \u001b[38;5;241m=\u001b[39m \u001b[43malive_model\u001b[49m\u001b[38;5;241m.\u001b[39mWIN_WIDTH\n\u001b[1;32m     10\u001b[0m     resize_h \u001b[38;5;241m=\u001b[39m \u001b[38;5;28mint\u001b[39m(resize_w \u001b[38;5;241m*\u001b[39m dim[\u001b[38;5;241m0\u001b[39m] \u001b[38;5;241m/\u001b[39m dim[\u001b[38;5;241m1\u001b[39m])\n\u001b[1;32m     12\u001b[0m     frame \u001b[38;5;241m=\u001b[39m cv2\u001b[38;5;241m.\u001b[39mresize(frame, (resize_w, resize_h))\n",
      "\u001b[0;31mNameError\u001b[0m: name 'alive_model' is not defined"
     ]
    }
   ],
   "source": [
    "imm = preprocess(img)"
   ]
  },
  {
   "cell_type": "code",
   "execution_count": null,
   "id": "fb52c17d-3029-40ad-8a34-edfe2cadfad2",
   "metadata": {},
   "outputs": [
    {
     "ename": "NameError",
     "evalue": "name 'landermark_98' is not defined",
     "output_type": "error",
     "traceback": [
      "\u001b[0;31m---------------------------------------------------------------------------\u001b[0m",
      "\u001b[0;31mNameError\u001b[0m                                 Traceback (most recent call last)",
      "Cell \u001b[0;32mIn[19], line 1\u001b[0m\n\u001b[0;32m----> 1\u001b[0m a \u001b[38;5;241m=\u001b[39m plot_lads(\u001b[43mlandermark_98\u001b[49m,frame)\n",
      "\u001b[0;31mNameError\u001b[0m: name 'landermark_98' is not defined"
     ]
    }
   ],
   "source": [
    "a = plot_lads(landermark_98,frame)"
   ]
  },
  {
   "cell_type": "code",
   "execution_count": null,
   "id": "07478a6d-b57c-4118-8aca-3f078c141bb9",
   "metadata": {},
   "outputs": [
    {
     "ename": "NameError",
     "evalue": "name 'imm' is not defined",
     "output_type": "error",
     "traceback": [
      "\u001b[0;31m---------------------------------------------------------------------------\u001b[0m",
      "\u001b[0;31mNameError\u001b[0m                                 Traceback (most recent call last)",
      "Cell \u001b[0;32mIn[18], line 1\u001b[0m\n\u001b[0;32m----> 1\u001b[0m bounding_boxes \u001b[38;5;241m=\u001b[39m detect_face(\u001b[43mimm\u001b[49m)\n",
      "\u001b[0;31mNameError\u001b[0m: name 'imm' is not defined"
     ]
    }
   ],
   "source": [
    "bounding_boxes = detect_face(imm)"
   ]
  },
  {
   "cell_type": "code",
   "execution_count": null,
   "id": "32a58c7c-95a5-47c1-b141-7cd907744480",
   "metadata": {},
   "outputs": [
    {
     "ename": "NameError",
     "evalue": "name 'bounding_boxes' is not defined",
     "output_type": "error",
     "traceback": [
      "\u001b[0;31m---------------------------------------------------------------------------\u001b[0m",
      "\u001b[0;31mNameError\u001b[0m                                 Traceback (most recent call last)",
      "Cell \u001b[0;32mIn[17], line 1\u001b[0m\n\u001b[0;32m----> 1\u001b[0m \u001b[43mbounding_boxes\u001b[49m\n",
      "\u001b[0;31mNameError\u001b[0m: name 'bounding_boxes' is not defined"
     ]
    }
   ],
   "source": [
    "bounding_boxes"
   ]
  },
  {
   "cell_type": "code",
   "execution_count": null,
   "id": "b8d3df7e-a900-43f7-a274-6b60b2078f19",
   "metadata": {},
   "outputs": [
    {
     "ename": "NameError",
     "evalue": "name 'landermark_98' is not defined",
     "output_type": "error",
     "traceback": [
      "\u001b[0;31m---------------------------------------------------------------------------\u001b[0m",
      "\u001b[0;31mNameError\u001b[0m                                 Traceback (most recent call last)",
      "Cell \u001b[0;32mIn[16], line 1\u001b[0m\n\u001b[0;32m----> 1\u001b[0m get_eyes_status(\u001b[43mlandermark_98\u001b[49m)\n",
      "\u001b[0;31mNameError\u001b[0m: name 'landermark_98' is not defined"
     ]
    }
   ],
   "source": [
    "get_eyes_status(landermark_98)"
   ]
  },
  {
   "cell_type": "code",
   "execution_count": null,
   "id": "2dd8ba84-14ff-4611-ad6c-341a0c6c6fff",
   "metadata": {},
   "outputs": [
    {
     "ename": "NameError",
     "evalue": "name 'aligned_sum' is not defined",
     "output_type": "error",
     "traceback": [
      "\u001b[0;31m---------------------------------------------------------------------------\u001b[0m",
      "\u001b[0;31mNameError\u001b[0m                                 Traceback (most recent call last)",
      "Cell \u001b[0;32mIn[15], line 1\u001b[0m\n\u001b[0;32m----> 1\u001b[0m \u001b[43maligned_sum\u001b[49m\n",
      "\u001b[0;31mNameError\u001b[0m: name 'aligned_sum' is not defined"
     ]
    }
   ],
   "source": [
    "aligned_sum"
   ]
  },
  {
   "cell_type": "code",
   "execution_count": null,
   "id": "a70a97d2-48dd-450e-8496-c6ee76cf8848",
   "metadata": {},
   "outputs": [],
   "source": []
  }
 ],
 "metadata": {
  "kernelspec": {
   "display_name": "Python 3 (ipykernel)",
   "language": "python",
   "name": "python3"
  },
  "language_info": {
   "codemirror_mode": {
    "name": "ipython",
    "version": 3
   },
   "file_extension": ".py",
   "mimetype": "text/x-python",
   "name": "python",
   "nbconvert_exporter": "python",
   "pygments_lexer": "ipython3",
   "version": "3.11.5"
  }
 },
 "nbformat": 4,
 "nbformat_minor": 5
}
